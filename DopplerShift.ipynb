{
  "nbformat": 4,
  "nbformat_minor": 5,
  "metadata": {
    "celltoolbar": "Raw Cell Format",
    "kernelspec": {
      "display_name": "Python 3 (ipykernel)",
      "language": "python",
      "name": "python3"
    },
    "language_info": {
      "codemirror_mode": {
        "name": "ipython",
        "version": 3
      },
      "file_extension": ".py",
      "mimetype": "text/x-python",
      "name": "python",
      "nbconvert_exporter": "python",
      "pygments_lexer": "ipython3",
      "version": "3.9.6"
    },
    "colab": {
      "name": "DopplerShift.ipynb",
      "provenance": [],
      "history_visible": true,
      "include_colab_link": true
    }
  },
  "cells": [
    {
      "cell_type": "markdown",
      "metadata": {
        "id": "view-in-github",
        "colab_type": "text"
      },
      "source": [
        "<a href=\"https://colab.research.google.com/github/jjpopski/JupyterNotebooks/blob/main/DopplerShift.ipynb\" target=\"_parent\"><img src=\"https://colab.research.google.com/assets/colab-badge.svg\" alt=\"Open In Colab\"/></a>"
      ]
    },
    {
      "cell_type": "markdown",
      "metadata": {
        "id": "fca7892e"
      },
      "source": [
        "#  Introduzione\n",
        "\n",
        "Il moto relativo tra sorgente e osservatore causa una variazione della frequenza ricevuta dovuto all'effetto Doppler. Il moto dell'osservatore  rispetto alla sorgente ha vari contributi: \n",
        "- topocentrico (rotazione terrestre). \n",
        "- geocentrico (rivoluzione attorno al Sole)\n",
        "- baricentrico (moto sistematico del baricentro del sistema solare versi Local Standard of Rest)\n",
        "\n",
        "I cataloghi di radio sorgenti possono contenere l'informazione della velocità radiale. In genere, per le sorgenti radio galattiche  viene indicata la velocità radiale rispetto al LSR ($v_{LSR}$). \n",
        "\n",
        "\n",
        "# Correzione Doppler\n",
        "\n",
        "Sia $v_{sun}$ la velocità del baricentro sel sistema oslare  verso l'apice, $\\vec{u_{sa}}$ e $\\vec{u_s}$ due vettori unitari rispettivamente verso la direzione dell'apice solare e della sorgente. La velocità radiale del sole nella direzione del LSR sarà pertanto data da: \n",
        "\n",
        "$$ v_{rs} = v_{sun}( \\vec{u_{sa}} \\cdot \\vec{u_s} ) $$\n",
        "\n",
        "\n",
        "Pertanto la velocità radiale $v_b$ baricentrica  è data da: \n",
        "\n",
        "$$ v_b = v_{LSR} − v_{rs} $$\n",
        "\n",
        "Per calcolare il contributo geocentrico si procede analogamente noto il vettore di velocità della Terra $\\vec{v_e}$\n",
        "\n",
        "La velocità radiale della Terra in direzione della sorgente ($v_{re}$) è data dal prodotto scalare:\n",
        "$$ v_{re} = ( \\vec{v_{e}} \\cdot \\vec{u_s} ) $$\n",
        "\n",
        "Il $\\vec{v_{o}}$ è il vettore di velocita  dell'osservatore nel sistema di riferimento geocentrico equatoriale, pertanto il cui contributo nella direzione della sorgente è dato da :\n",
        "\n",
        "$$ v_{ro} = ( \\vec{v_{o}} \\cdot \\vec{u_s} ) $$ \n",
        "\n",
        "Considerando tutti i contributi alla velocita' radiale dovuti dal moto , la velocita' radiale topocentrica e':\n",
        "\n",
        "$$ v_{t}= v_{LSR}- v_{rs} - v_{re}- v_{ro} = v_{b} - v_{re}- v_{ro}   $$\n",
        "\n",
        "\n",
        "\n",
        "\n",
        "\n",
        "# Implementazione Python\n",
        "\n",
        "\n",
        "L'implementazione richiede l'utilizzo del package Astropy versione 4 o superiore a cui si rimanda per la documentazione specifica, in particolare delle classi per la gestione del tempo e delle coordinate celesti.\n",
        "\n",
        "La classe `SkyCoord` del package  astropy.coordinates permette di istanziare un oggetto rappresentativo\n",
        "di un sorgente celeste, di coordinate RA e declinazione DEC.\n",
        "```python\n",
        "from astropy.coordinates import SkyCoord\n",
        "source=SkyCoord (ra=RA,  dec= DEC, frame='icrs')\n",
        "\n",
        "\n",
        "```\n",
        "\n",
        "Il metodo `radial_velocity_correction` permette di ottenere $v_{ob}$ la velocita' radiale nella direzione di una della sorgente rispetto al baricentro del sistema solare, a un tempo `t` in un punto della superficie terrestre `loc`\n",
        "\n",
        "\n",
        "```python\n",
        "\n",
        "velocity= source.radial_velocity_correction(obstime=time, location=loc)\n",
        "\n",
        "\n",
        "```\n",
        "\n",
        "Nelle definizioni di cui sopra, $v_{ob}$ rappresenta la somma del contributo geocentrico e quello baricentrico\n",
        "\n",
        "$$v_{ob}= v_{re}+ v_{ro}$$\n",
        "\n",
        "\n",
        "$$ v_{t}= v_{LSR}- v_{rs} - v_{ob} $$\n",
        "\n",
        "Per definzione, il Local Standard of Rest ha velocita' $v_{LSR}=0$, pertanto la velocita' dell'\n",
        "osservatore rispetto a LSR e= data da\n",
        "\n",
        "$$ v_{t}=- v_{rs} - v_{ob} $$\n",
        "\n",
        "La correzione da impostare sull'oscillatore locale :\n",
        "\n",
        "$$ \\Delta f_{OL}= - f_{obs}\\frac{v_t}{c}$$\n",
        "\n",
        "dove $f_{obs}$ e' la frequenza cielo e *c* e' la velocita' della luce.\n",
        "\n",
        "## Bibliografia\n",
        "\n",
        "\n",
        "- A. Díaz-Pulido, P. de Vicente Spectral data doppler corrections for the 40 m radiotelescope, Informe Técnico IT-CDT/OAN 2014-10\n",
        "\n",
        "- M.A. Gordon 1975, Methods of Experimental Physics: Volume 12: Astrophysics, Part C: Radio Observations - Section 6.1.5.\n",
        "- https://docs.astropy.org/en/stable/index.html\n",
        "\n",
        "\n"
      ],
      "id": "fca7892e"
    },
    {
      "cell_type": "code",
      "metadata": {
        "id": "dc75c7d7"
      },
      "source": [
        "from astropy import units as u\n",
        "from astropy.coordinates import SkyCoord,EarthLocation,LSRK,ICRS\n",
        "from astropy.time import Time\n",
        "import numpy as np\n",
        "import astropy.constants\n",
        "#%xmode Verbose\n"
      ],
      "id": "dc75c7d7",
      "execution_count": 1,
      "outputs": []
    },
    {
      "cell_type": "code",
      "metadata": {
        "id": "36240c2c"
      },
      "source": [
        "time=Time('2021-08-20T15:38:45.672')  "
      ],
      "id": "36240c2c",
      "execution_count": 2,
      "outputs": []
    },
    {
      "cell_type": "markdown",
      "metadata": {
        "raw_mimetype": "text/markdown",
        "id": "b7040a31"
      },
      "source": [
        "Il Local Standard of Rest (LSR) è un sistema di riferimento che tiene conto dei moti sistematici delle stelle nei dintorni del Sole. Si defilnisce LSR dinamico o LSRK il sistema di riferimento tale per cui il Sole si muove ad una velcotà di 20 Km/s verso l'apice solare che si trova alle  coordinate  R.A.=$18^h$ e Dec=30$^\\circ$ nel sistema di riferimento equatoriale all'epoca J1900. Nell'International Celestial Reference System (ICRS), l'apice solare ha coordinate R.A. = $\"18^h03^m50^s.29$, Dec = $+30^\\circ00^{'}16^{\"}.8$, all'epoca J2000.\n"
      ],
      "id": "b7040a31"
    },
    {
      "cell_type": "code",
      "metadata": {
        "id": "44ca8228"
      },
      "source": [
        "psun = SkyCoord(ra=\"18:03:50.29\", dec=\"+30:00:16.8\", frame=\"icrs\", unit=(u.hourangle, u.deg))\n",
        "\n",
        "vsun = -20.0 * u.km / u.s\n",
        "\n",
        "\n",
        " "
      ],
      "id": "44ca8228",
      "execution_count": 3,
      "outputs": []
    },
    {
      "cell_type": "code",
      "metadata": {
        "colab": {
          "base_uri": "https://localhost:8080/"
        },
        "id": "150f397d",
        "outputId": "5f8e461e-4b92-45f0-f563-479f22f20cb0"
      },
      "source": [
        "location = EarthLocation.of_site('SRT')  \n",
        "source=SkyCoord.from_name('W3(OH)')\n",
        "print(location.geodetic)\n",
        "\n",
        "w3oh=SkyCoord.from_name('W3(OH)')\n",
        "aries_point=SkyCoord(ra=0*u.degree,dec=0*u.degree,frame='icrs')\n",
        "\n"
      ],
      "id": "150f397d",
      "execution_count": 4,
      "outputs": [
        {
          "output_type": "stream",
          "name": "stdout",
          "text": [
            "GeodeticLocation(lon=<Longitude 9.24516 deg>, lat=<Latitude 39.49304 deg>, height=<Quantity 650. m>)\n"
          ]
        }
      ]
    },
    {
      "cell_type": "code",
      "metadata": {
        "id": "e711ea1f"
      },
      "source": [
        "def vlsr(source,time,location):\n",
        "      vsrc = source.radial_velocity_correction(kind='barycentric',obstime=time, location=location)\n",
        "\n",
        "      # Projection of solar velocity towards the source\n",
        "      vsun_proj = source.cartesian.dot(psun.cartesian) * vsun\n",
        "      return vsrc-vsun_proj\n",
        "\n",
        "def deltafreq(fobs,vt):\n",
        "    return -fobs*vt/astropy.constants.c"
      ],
      "id": "e711ea1f",
      "execution_count": 5,
      "outputs": []
    },
    {
      "cell_type": "code",
      "metadata": {
        "colab": {
          "base_uri": "https://localhost:8080/"
        },
        "id": "c59d76a8",
        "outputId": "1c131f21-5d7d-41cd-ee49-730185aa22f8"
      },
      "source": [
        "print(vlsr(w3oh,time,location).to(u.km/u.s))\n",
        "print(vlsr(aries_point,time,location).to(u.km/u.s))\n",
        "\n"
      ],
      "id": "c59d76a8",
      "execution_count": 6,
      "outputs": [
        {
          "output_type": "stream",
          "name": "stdout",
          "text": [
            "25.127571305055895 km / s\n",
            "15.97246901294389 km / s\n"
          ]
        }
      ]
    },
    {
      "cell_type": "code",
      "metadata": {
        "colab": {
          "base_uri": "https://localhost:8080/"
        },
        "id": "bf9c7fa2",
        "outputId": "42ecbcb2-0068-4f0f-c210-386c3411210b"
      },
      "source": [
        "fobs=22235.079850*u.MHz #water maser frequency. \n",
        "vt_w3oh=vlsr(w3oh,time,location)\n",
        "print(deltafreq(fobs,vt_w3oh))\n"
      ],
      "id": "bf9c7fa2",
      "execution_count": 7,
      "outputs": [
        {
          "output_type": "stream",
          "name": "stdout",
          "text": [
            "-1.8636678124987605 MHz\n"
          ]
        }
      ]
    },
    {
      "cell_type": "code",
      "metadata": {
        "id": "3ad8f81d"
      },
      "source": [
        ""
      ],
      "id": "3ad8f81d",
      "execution_count": 7,
      "outputs": []
    },
    {
      "cell_type": "code",
      "metadata": {
        "id": "67edfc38"
      },
      "source": [
        ""
      ],
      "id": "67edfc38",
      "execution_count": null,
      "outputs": []
    },
    {
      "cell_type": "code",
      "metadata": {
        "id": "910d4fbe"
      },
      "source": [
        ""
      ],
      "id": "910d4fbe",
      "execution_count": null,
      "outputs": []
    }
  ]
}